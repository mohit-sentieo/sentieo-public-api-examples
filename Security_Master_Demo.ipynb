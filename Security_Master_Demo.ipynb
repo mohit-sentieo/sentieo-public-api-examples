{
  "nbformat": 4,
  "nbformat_minor": 0,
  "metadata": {
    "colab": {
      "name": "Security Master Demo.ipynb",
      "provenance": [],
      "collapsed_sections": [],
      "authorship_tag": "ABX9TyNJIvMv8FFSFfPFy+gCwD1O",
      "include_colab_link": true
    },
    "kernelspec": {
      "name": "python3",
      "display_name": "Python 3"
    }
  },
  "cells": [
    {
      "cell_type": "markdown",
      "metadata": {
        "id": "view-in-github",
        "colab_type": "text"
      },
      "source": [
        "<a href=\"https://colab.research.google.com/github/mohit-sentieo/sentieo-public-api-examples/blob/master/Security_Master_Demo.ipynb\" target=\"_parent\"><img src=\"https://colab.research.google.com/assets/colab-badge.svg\" alt=\"Open In Colab\"/></a>"
      ]
    },
    {
      "cell_type": "markdown",
      "metadata": {
        "id": "5J4TOGdOpm7_",
        "colab_type": "text"
      },
      "source": [
        "### Welcome to Sec Master Demo\n",
        "In this demo we will show you how you can use the sentieo API to map your security symbols to our own security symbols. There are two ways to maintain this mapping of your security symbols to our symbols. Depending upon your use case, you may prefer one over the other.\n",
        "\n",
        "#### Using your own security master table\n",
        "You can store our security symbols at your end for each of your symbols. When you want to call an API with our symbols, you can simply fetch those symbols from your db and get the           \n",
        "- Which apis to use for mapping?\n",
        "- How to handle updates to the security master table ?\n",
        "- Which symbols work best while mapping ?\n",
        "- Common Errors\n",
        "\n",
        "Go Ahead and run the first piece of code to generate a sample DB( in pandas)"
      ]
    },
    {
      "cell_type": "code",
      "metadata": {
        "id": "pOXEcD0QphvC",
        "colab_type": "code",
        "colab": {
          "base_uri": "https://localhost:8080/",
          "height": 206
        },
        "outputId": "f80cdb27-19e3-4e06-f3d6-8c99b1375858"
      },
      "source": [
        "import pandas as pd\n",
        "\n",
        "COMPOSITE_FIGI_CODE_LIST = ['BBG000BPH459', 'BBG000B9XRY4', 'BBG000BVPV84', 'BBG000MM2P62', 'BBG000DWG505', 'BBG009S39JX6', 'BBG009S3NB30', 'BBG000BMHYD1', 'BBG000DMBXR2', 'BBG000PSKYX7', 'BBG000BR2TH3', 'BBG000CH5208', 'BBG000C0G1D1', 'BBG000HS77T5', 'BBG000F1ZSQ2', 'BBG000BSJK37', 'BBG000BKZB36', 'BBG000BPD168', 'BBG000BR2B91', 'BBG000BH4R78', 'BBG000BCTLF6', 'BBG000BMX289', 'BBG000DH7JK6', 'BBG000C3J3C9', 'BBG000CL9VN6', 'BBG000BBJQV0', 'BBG000BWXBC2', 'BBG000GZQ728', 'BBG000BFT2L4', 'BBG000BB5006', 'BBG000B9ZXB4', 'BBG000K4ND22', 'BBG000DQLV23', 'BBG000BN2DC2', 'BBG000F6H8W8', 'BBG000BNSZP1', 'BBG000BNWG87', 'BBG000BBS2Y0', 'BBG000BJSBJ0', 'BBG000BNBDC2', 'BBG000BVDLH9', 'BBG000J2XL74', 'BBG0025Y4RY4', 'BBG0077VNXV6', 'BBG000BWQFY7', 'BBG000BQLTW7', 'BBG000D9D830', 'BBG000C5HS04', 'BBG000BLNNH6', 'BBG000BW3299', 'BBG000B9XYV2', 'BBG000H556T9', 'BBG000CKGBP2', 'BBG00KHY5S69', 'BBG000BVV7G1', 'BBG00GVR8YQ9', 'BBG000FY4S11', 'BBG001S5QGT0', 'BBG000BH3JF8', 'BBG000C1BW00', 'BBG000BCSST7', 'BBG000BP52R2', 'BBG000CTQBF3', 'BBG000BGRY34', 'BBG000CGC1X8', 'BBG000BW8S60', 'BBG000BK2F42', 'BBG000BP6LJ8', 'BBG000D4LWF6', 'BBG000BK6MB5', 'BBG000VPGNR2', 'BBG00KXRCDP0', 'BBG000BNDN65', 'BBG000L9CV04', 'BBG000BF0K17', 'BBG000BCZYD3', 'BBG000BHLYP4', 'BBG000C1S2X2', 'BBG000BP1Q11', 'BBG000FV1Z23', 'BBG000BH5DV1', 'BBG000BGVW60', 'BBG000B9Z0J8', 'BBG000JG0547', 'BBG000BHGDH5', 'BBG000FH8PX5', 'BBG000BV8DN6', 'BBG000BCG930', 'BBG000BCQZS4', 'BBG000BJPDZ1', 'BBG000C17X76', 'BBG000BT9DW0', 'BBG000BFQYY3', 'BBG000BLBVN4', 'BBG0039320N9', 'BBG000BJKPG0', 'BBG000M1R011', 'BBG000DN7P92', 'BBG000MBDGM6', 'BBG000BBQCY0', 'BBG000C2PW58', 'BBG000BR14K5', 'BBG000C6CFJ5', 'BBG000FFDM15', 'BBG000BQ2C28', 'BBG000H8TVT2', 'BBG000C5Z1S3', 'BBG000C0LW92', 'BBG000CVWGS6', 'BBG000C1FB75', 'BBG000BGJRC8', 'BBG000BC4JJ4', 'BBG000BMW2Z0', 'BBG000BP4MH0', 'BBG000BH1NH9', 'BBG000CX0P89', 'BBG000BR37X2', 'BBG000BBPFB9', 'BBG000BRD0D8', 'BBG000BLKK03', 'BBG000BMBL90', 'BBG000BCVJ77', 'BBG000BYYLS8', 'BBG000DSMS70', 'BBG000BLGFJ9', 'BBG000BLZRJ2', 'BBG000BB9KF2', 'BBG000BRXP69', 'BBG000C734W3', 'BBG000BHKYH4', 'BBG000BC15S7', 'BBG000BSLZY7', 'BBG000NV1KK7', 'BBG000BQ5DS5', 'BBG000BSXQV7', 'BBG000BPWXK1', 'BBG000Q5ZRM7', 'BBG000BSD7C2', 'BBG000BWVSR1', 'BBG000J6XT05', 'BBG000FKJRC5', 'BBG000BNFLM9', 'BBG000BDXCJ5', 'BBG000F86GP6', 'BBG000BWLMJ4', 'BBG000BM7HL0', 'BBG000BQQH30', 'BBG000BB6G37', 'BBG000F1ZSN5', 'BBG000BJ3PD2', 'BBG000BKCFC2', 'BBG000C2ZCH8', 'BBG000BCTQ65', 'BBG000BSBZH7', 'BBG000BK67C7', 'BBG000D2M0Z7', 'BBG000BVMGF2', 'BBG000BPPN67', 'BBG000BP0KQ8', 'BBG000BHX7N2', 'BBG000BJF1Z8', 'BBG000BD8PN9', 'BBG000BWP7D9', 'BBG0019JZ882', 'BBG000NDV1D4', 'BBG000NDYB67', 'BBG000BHLYS1', 'BBG000KHWT55', 'BBG000BJ81C1', 'BBG000BBDV81', 'BBG00BN961G4', 'BBG000BQ87N0', 'BBG000BBBNC6', 'BBG000RTDY25', 'BBG006G063F9', 'BBG000BMY992', 'BBG000J1QLT0', 'BBG000BB6KF5', 'BBG00286S4N9', 'BBG000QW7VC1', 'BBG000BGKTF9', 'BBG000BTVJ25', 'BBG000C43RR5', 'BBG000BVMPN3', 'BBG000BP8Z50', 'BBG000BGYWY6', 'BBG000BCZL41', 'BBG000BMTFR4', 'BBG000BQZMH4', 'BBG000C2V3D6', 'BBG001S8F8P8', 'BBG000DYGNW7', 'BBG000DB3KT1', 'BBG000BFS7D3', 'BBG00BN96922', 'BBG000B9YJ35', 'BBG000BB6M98', 'BBG000TRJ294', 'BBG000BG8M31', 'BBG008NVB1C0', 'BBG000RGM5P1', 'BBG000BDDNH5', 'BBG000BBDZG3', 'BBG000BQVTF5', 'BBG000L4M7F1', 'BBG000HCJMF9', 'BBG000BZ9223', 'BBG000BH3GZ2', 'BBG000BVWLJ6', 'BBG000BKPL53', 'BBG000BGPTV6', 'BBG000BLRT07', 'BBG000BLPBL5', 'BBG000BGD7W6', 'BBG000C7LMS8', 'BBG000BQSQ38', 'BBG000GXZ4W7', 'BBG000BM6788', 'BBG000G30YX4', 'BBG000BFDLV8', 'BBG000BLHRS2', 'BBG000BRJ809', 'BBG000C0F570', 'BBG000D7RKJ5', 'BBG000BB6WG8', 'BBG00333FYS2', 'BBG000BKFBD7', 'BBG0058KMH30', 'BBG000BSFRF3', 'BBG000H6HNW3', 'BBG000BRJL00', 'BBG000BQPC32', 'BBG000BT41Q8', 'BBG000C1FQS9', 'BBG000BBGGQ1', 'BBG000BGKHZ3', 'BBG000C13CD9', 'BBG000BKY1G5', 'BBG000BB29X4', 'BBG000BJ8YN7', 'BBG000BWCKB6', 'BBG000B9X8C0', 'BBG00BN969C1', 'BBG000BBCDZ2', 'BBG000BSC0K9', 'BBG000G6Y5W4', 'BBG000DHPN63', 'BBG000DKCC19', 'BBG000BWVCP8', 'BBG000BNJHS8', 'BBG000BJ2D31', 'BBG000BZCKH3', 'BBG000BC33T9', 'BBG000QX74T1', 'BBG000BFVXX0', 'BBG000BR3KL6', 'BBG000R7Z112', 'BBG000B9XG87', 'BBG000FQ6PY6', 'BBG00BLVZ228', 'BBG000BHCP19', 'BBG000GPXKX9', 'BBG000BQ74K1', 'BBG000L8CBX4', 'BBG000BPXVJ6', 'BBG000BKFZM4', 'BBG000BFJT36', 'BBG0059FN811', 'BBG001DCCGR8', 'BBG005CPNTQ2', 'BBG000KLB4Q1', 'BBG000BTQR96', 'BBG000BBHXQ3', 'BBG000BMKDM3', 'BBG000BJQWD2', 'BBG000CGJMB9', 'BBG000H3YXF8', 'BBG000JWD753', 'BBG000BCMBG4', 'BBG000BHPL78', 'BBG000BWGYF8', 'BBG000BDXGP9', 'BBG000D898T9', 'BBG000BM9RH1', 'BBG000BV75B7', 'BBG0019LSQ49', 'BBG000D9KWL9', 'BBG000BG3445', 'BBG000BV59Y6', 'BBG001P63B80', 'BBG000MDCQC2', 'BBG000BS5CM9', 'BBG000BS1YV5', 'BBG000BPNP00', 'BBG00LNJRQ09', 'BBG000G3QLY3', 'BBG000BCWCG1', 'BBG000BLF8D2', 'BBG000BNPSQ9', 'BBG000WCFV84', 'BBG000BMZ7P7', 'BBG000G0Z878', 'BBG000C04224', 'BBG0078W3NQ3', 'BBG001QD41M9', 'BBG000BT1715', 'BBG00H433CR2', 'BBG000BX3BL3', 'BBG000BJBZ23', 'BBG000CHSS88', 'BBG000BRNLL2', 'BBG000PV27K3', 'BBG000D9DMK0', 'BBG000BM5SR2', 'BBG000C23PB0', 'BBG000BHB3M6', 'BBG000BWNFZ9', 'BBG000BS9489', 'BBG000BHD8S7', 'BBG00MRHG523', 'BBG000BRNGM2', 'BBG000BMH2Q7', 'BBG000BGYMH7', 'BBG000FQRVM3', 'BBG000BKYDP9', 'BBG000BLMY92', 'BBG001D8R5D0', 'BBG000BXRPH1', 'BBG000DW4Q75', 'BBG000BFPK65', 'BBG000BJ5GK2', 'BBG000DQTXY6', 'BBG000F0KF42', 'BBG000QBR5J5', 'BBG000N2HDY5', 'BBG000F5VVB6', 'BBG000BKR1D6', 'BBG000BQ8KV2', 'BBG000BLSL58', 'BBG000PPFKQ7', 'BBG000C4LN67', 'BBG000BMFFQ0', 'BBG000BJP882', 'BBG000BN5HF7', 'BBG000C41023', 'BBG000BN84F3', 'BBG000BH2JM1', 'BBG000BJL3N0', 'BBG000BQQ2S6', 'BBG000C1HN22', 'BBG000BMQPL1', 'BBG000BD2NY8', 'BBG000BLXZN1', 'BBG00FWQ4VD6', 'BBG0064N0ZZ5', 'BBG000QH56C1', 'BBG000CC7LQ7', 'BBG000FRVHB9', 'BBG000BNNKG9', 'BBG000BKL348', 'BBG000BJDB15', 'BBG000FP1N32', 'BBG007TJF1N7', \n",
        "                            'BBG000C3NTN5', 'BBG000BWBZN1', 'BBG000BPZBB6', 'BBG000BKVJK4', 'BBG00658F3P3', 'BBG000BGLRN3', 'BBG000BTCH57', 'BBG000BQHGR6', 'BBG000C23KJ3', 'BBG000BQBYR3', 'BBG000BLMZK6', 'BBG000C45984', 'BBG000JYP7L8', 'BBG000BB65D0', 'BBG001S5XBT3', 'BBG000BDD940', 'BBG000BX57K1', 'BBG000Q3JN03', 'BBG000BBD070', 'BBG003PS7JV1', 'BBG000BCQ4P6', 'BBG002R1CW27', 'BBG000R7RDB4', 'BBG000BKWSR6', 'BBG000BRDSX5', 'BBG003CVMLQ2', 'BBG000FXW512', 'BBG00JHNJW99', 'BBG006Q0HY77', 'BBG000BB8SW7', 'BBG000NSCNT7', 'BBG000BL8804', 'BBG000CB8Q50', 'BBG000BMDBZ1', 'BBG000BT0CM2', 'BBG000BS73J1', 'BBG000BG4202', 'BBG000QY3XZ2', 'BBG000N746D6', 'BBG000BXMFC3', 'BBG000C1XVK6', 'BBG000FDBX90', 'BBG000BB5373', 'BBG000BPQD31', 'BBG000BD1HP2', 'BBG001KJ2HM9', 'BBG000C496P7', 'BBG000BNMMJ3', 'BBG000BS7KS3', 'BBG008NXC572', 'BBG000BVD6X4', 'BBG000C3GN47', 'BBG000D8RG11', 'BBG000MQ1SN9', 'BBG000M65M61', 'BBG00GBVBK51', 'BBG000KCZPC3', 'BBG000BBNYF6', 'BBG000CNFQW6', 'BBG000BY33P5', 'BBG000C101X4', 'BBG000F7RCJ1', 'BBG000FQ7YR4', 'BBG000BL46Q4', 'BBG000BZX1N5', 'BBG000CXYSZ6', 'BBG000BLW530', 'BBG000PXDL44', 'BBG000C90DH9', 'BBG000C2BXK4', 'BBG000BVVQQ8', 'BBG000BT7JW9', 'BBG001B4BV87', 'BBG000BKTFN2', 'BBG000BJ26K7', 'BBG000BWJFZ4', 'BBG000VMWHH5', 'BBG000LD9JQ8', 'BBG000BWHD54', 'BBG000BR54L0', 'BBG000BB5792', 'BBG000BWSV34', 'BBG000BNC3Y9', 'BBG000BC1L02', 'BBG000BF6LY3', 'BBG000DD3510', 'BBG000BJVN28', 'BBG000BQC9V2', 'BBG000C2YHG9', 'BBG000BSBBP1', 'BBG000BJ49H3', 'BBG000C221G9', 'BBG000BQT4L6', 'BBG005P7Q881', 'BBG000BD0TF8', 'BBG000BBL8V7', 'BBG000BX9WL1', 'BBG000FLZN98', 'BBG000BS5DR2', 'BBG0088CYPX8', 'BBG000BHK836', 'BBG002PHSYX9', 'BBG000C75N77', 'BBG000CN3S73', 'BBG000DCGRL8', 'BBG000C22QV7', 'BBG000BFXHL6', 'BBG000BJX8C8', 'BBG000BL9JQ1', 'BBG00JHNKJY8', 'BBG00NNG2ZJ8', 'BBG000BY29C7', 'BBG000BVP5P2', 'BBG000BBL0Y1', 'BBG000BY2Y78', 'BBG000BN53G7', 'BBG00FN64XT9', 'BBG0035LY913', 'BBG000BS0ZF1', 'BBG000BW2QX0', 'BBG000CHWP52', 'BBG000FFH4P5', 'BBG000BKZTP3', 'BBG000BPT0C6', 'BBG000D2ZTS8', 'BBG00DL8NMV2', 'BBG000BLDV98', 'BBG000BRRG02', 'BBG000BBVJZ8', 'BBG000C8H633', 'BBG000BNGTQ7', 'BBG000BSRN78', 'BBG000CS7CT9', 'BBG000BLCPY4', 'BBG000BXM6V2', 'BBG0029SNR63', 'BBG000G8N9C6', 'BBG000BC2C10', 'BBG009DTD8H2', 'BBG000F395V1', 'BBG000BKLH74', 'BBG000C46HM9', 'BBG000BFNR17', 'BBG0035M2ZB7']\n",
        "\n",
        "BLOOMBERG_TICKER_LIST = [\"AC FP\", \"ADP FP\", \"AI FP\", \"ALO FP\", \"AREVA FP\", \"AKE FP\", \"CS FP\", \"GTO FP\", \"ATO FP\", \"BB FP\", \"BNP FP\", \"BOL FP\", \"EN FP\", \"BVI FP\", \"CAP FP\", \"CA FP\", \"CO FP\", \"CDI FP\", \"SGO FP\", \"GA FP\", \"CNP FP\", \"ACA FP\", \"KN FP\", \"DSY FP\", \"EAD FP\", \"VIV FP\", \"EDEN FP\", \"EDF FP\", \"ICAD FP\", \"EI FP\", \"RF FP\", \"ETL FP\", \"FDR FP\", \"FTE FP\", \"GSZ FP\", \"GFC FP\", \"GET FP\", \"BN FP\", \"RMS FP\", \"ILD FP\", \"NK FP\", \"MT NA\", \"LI FP\", \"LG FP\", \"MMB FP\", \"LR FP\", \"OR FP\", \"MC FP\", \"MF FP\", \"ML FP\", \"RI FP\", \"UG FP\", \"PP FP\", \"PUB FP\", \"RCO FP\", \"RNO FP\", \"RXL FP\", \"SAN FP\", \"SAF FP\", \"SU FP\", \"SCR FP\", \"SESG FP\", \"GLE FP\", \"SW FP\", \"STM FP\", \"SEV FP\", \"TEC FP\", \"HO FP\", \"FP FP\", \"UL FP\", \"VK FP\", \"VIE FP\", \"DG FP\", \"ZC FP\", \"BELG BB\", \"COLR BB\", \"DELB BB\", \"AGS BB\", \"GBLB BB\", \"KBC BB\", \"SOLB BB\", \"TNET BB\", \"UCB BB\", \"UMI BB\", \"DEG US\", \"ABB SS\", \"ATLN VX\", \"ADEN VX\", \"ARYN SW\", \"AZN SS\", \"BALN VX\", \"BARN SW\", \"ABBN VX\", \"BCVN SW\", \"CSGN VX\", \"DKSH SW\", \"EMSN SW\", \"GEBN VX\", \"GIVN VX\", \"HOLN VX\", \"BAER VX\", \"KNIN VX\", \"LISP SW\", \"LISN SW\", \"LONN VX\", \"NESN VX\", \"NOKISEK SS\", \"NOVN VX\", \"PARG SW\", \"PGHN SW\", \"SOON VX\", \"CFR VX\", \"RO SW\", \"ROG VX\", \"SCHN SW\", \"SCHP VX\", \"SGSN VX\", \"SIK VX\", \"UHRN SW\", \"SUN VX\", \"UHR VX\", \"SCMN VX\", \"SPSN VX\", \"SLHN VX\", \"SREN VX\", \"SYNN VX\", \"UBSN VX\", \"ZURN VX\", \"UBS US\", \"SMFG US\", \"2670 JP\", \"8572 JP\", \"6857 JP\", \"8570 JP\", \"8267 JP\", \"8905 JP\", \"4088 JP\", \"7259 JP\", \"2802 JP\", \"2784 JP\", \"9202 JP\", \"6113 JP\", \"8304 JP\", \"2502 JP\", \"3407 JP\", \"5201 JP\", \"7936 JP\", \"9783 JP\", \"8369 JP\", \"8332 JP\", \"5108 JP\", \"6448 JP\", \"2229 JP\", \"7751 JP\", \"6952 JP\", \"9022 JP\", \"8331 JP\", \"6366 JP\", \"9502 JP\", \"4519 JP\", \"8382 JP\", \"9504 JP\", \"7762 JP\", \"2579 JP\", \"8253 JP\", \"4202 JP\", \"5471 JP\", \"7262 JP\", \"4568 JP\", \"8750 JP\", \"6367 JP\", \"4506 JP\", \"7912 JP\", \"1878 JP\", \"1925 JP\", \"8601 JP\", \"2432 JP\", \"6902 JP\", \"4324 JP\", \"8593 JP\", \"7532 JP\", \"9020 JP\", \"4523 JP\", \"9513 JP\", \"8028 JP\", \"6954 JP\", \"9983 JP\", \"6504 JP\", \"7270 JP\", \"4901 JP\", \"4544 JP\", \"4676 JP\", \"6702 JP\", \"8354 JP\", \"3632 JP\", \"8334 JP\", \"8359 JP\", \"2433 JP\", \"6965 JP\", \"9042 JP\", \"7205 JP\", \"8379 JP\", \"6806 JP\", \"4530 JP\", \"6501 JP\", \"4217 JP\", \"8586 JP\", \"5486 JP\", \"6305 JP\", \"8036 JP\", \"9509 JP\", \"9505 JP\", \"7267 JP\", \"7741 JP\", \"4062 JP\", \"5019 JP\", \"1605 JP\", \"3099 JP\", \"7013 JP\", \"7202 JP\", \"4739 JP\", \"8001 JP\", \"8385 JP\", \"8952 JP\", \"5631 JP\", \"2914 JP\", \"8953 JP\", \"8955 JP\", \"9201 JP\", \"5411 JP\", \"3086 JP\", \"1963 JP\", \"8333 JP\", \"4185 JP\", \"4817 JP\", \"5020 JP\", \"1812 JP\", \"9364 JP\", \"4118 JP\", \"9503 JP\", \"4613 JP\", \"4452 JP\", \"7012 JP\", \"9433 JP\", \"9045 JP\", \"9006 JP\", \"9008 JP\", \"9009 JP\", \"6861 JP\", \"2801 JP\", \"9041 JP\", \"2503 JP\", \"5406 JP\", \"7276 JP\", \"6301 JP\", \"9766 JP\", \"4902 JP\", \"6473 JP\", \"6326 JP\", \"3405 JP\", \"7459 JP\", \"6370 JP\", \"6971 JP\", \"4151 JP\", \"9508 JP\", \"2651 JP\", \"6592 JP\", \"6586 JP\", \"8002 JP\", \"5463 JP\", \"8252 JP\", \"8628 JP\", \"6752 JP\", \"7261 JP\", \"2702 JP\", \"2269 JP\", \"8766 JP\", \"9962 JP\", \"8725 JP\", \"4188 JP\", \"8306 JP\", \"8309 JP\", \"8802 JP\", \"8058 JP\", \"9301 JP\", \"4182 JP\", \"6503 JP\", \"7011 JP\", \"5711 JP\", \"8031 JP\", \"4183 JP\", \"9104 JP\", \"8801 JP\", \"8411 JP\", \"6981 JP\", \"6268 JP\", \"7832 JP\", \"6701 JP\", \"3659 JP\", \"5333 JP\", \"5334 JP\", \"5991 JP\", \"6594 JP\", \"7731 JP\", \"7974 JP\", \"9432 JP\", \"9062 JP\", \"5401 JP\", \"5214 JP\", \"9101 JP\", \"9404 JP\", \"8951 JP\", \"4091 JP\", \"2282 JP\", \"7201 JP\", \"2002 JP\", \"2897 JP\", \"9843 JP\", \"6988 JP\", \"8630 JP\", \"7240 JP\", \"3231 JP\", \"4307 JP\", \"8604 JP\", \"6471 JP\", \"9613 JP\", \"9437 JP\", \"8933 JP\", \"1802 JP\", \"9007 JP\", \"3861 JP\", \"7733 JP\", \"6645 JP\", \"4528 JP\", \"4716 JP\", \"4661 JP\", \"8585 JP\", \"8591 JP\", \"9532 JP\", \"4768 JP\", \"4578 JP\", \"4666 JP\", \"4755 JP\", \"8308 JP\", \"7752 JP\", \"5947 JP\", \"6963 JP\", \"6417 JP\", \"8136 JP\", \"4536 JP\", \"9735 JP\", \"6460 JP\", \"4204 JP\", \"1928 JP\", \"3382 JP\", \"8410 JP\", \"6753 JP\", \"9507 JP\", \"7309 JP\", \"8227 JP\", \"7701 JP\", \"1803 JP\", \"4063 JP\", \"8303 JP\", \"4507 JP\", \"4911 JP\", \"8355 JP\", \"3003 JP\", \"4004 JP\", \"5002 JP\", \"6273 JP\", \"8473 JP\", \"9984 JP\", \"2413 JP\", \"6758 JP\", \"8729 JP\", \"6923 JP\", \"3436 JP\", \"8316 JP\", \"4005 JP\", \"5802 JP\", \"6302 JP\", \"5713 JP\", \"8830 JP\", \"8053 JP\", \"5110 JP\", \"8358 JP\", \"9987 JP\", \"7269 JP\", \"6869 JP\", \"5233 JP\", \"1801 JP\", \"4581 JP\", \"8233 JP\", \"4502 JP\", \"4508 JP\", \"8795 JP\", \"6762 JP\", \"3401 JP\", \"4543 JP\", \"6481 JP\", \"9001 JP\", \"9602 JP\", \"9533 JP\", \"9506 JP\", \"9501 JP\", \"9531 JP\", \"8035 JP\", \"8815 JP\", \"9005 JP\", \"5012 JP\", \"7911 JP\", \"3402 JP\", \"6502 JP\", \"5938 JP\", \"5332 JP\", \"7282 JP\", \"3116 JP\", \"2875 JP\", \"5901 JP\", \"6201 JP\", \"8015 JP\", \"7203 JP\", \"4704 JP\", \"4208 JP\", \"8113 JP\", \"8960 JP\", \"4732 JP\", \"9021 JP\", \"4689 JP\", \"2267 JP\", \"9831 JP\", \"8418 JP\", \"7951 JP\", \"7272 JP\", \"4503 JP\", \"9064 JP\", \"5444 JP\", \"2212 JP\", \"6506 JP\", \"6841 JP\", \"5101 JP\", \"SNEJF US\", \"NJ US\", \"AGN NA\", \"AH NA\", \"AKZA NA\", \"ASML NA\", \"BOKA NA\", \"CORA NA\", \"DL NA\", \"DE NA\", \"DSM NA\", \"REN NA\", \"FUR NA\", \"HAL NA\", \"HEIO NA\", \"HEIA NA\", \"INGA NA\", \"KPN NA\", \"VPK NA\", \"PHIA NA\", \"RAND NA\", \"TNTE NA\", \"UNA NA\", \"WKL NA\", \"ZIGGO NA\", \"ASML US\", \"CCE US\", \"ENL US\", \"NXPI US\", \"SNE US\", \"ABB US\", \"BA CN\", \"BBL US\", \"CP CN\", \"CG CN\", \"EBR US\", \"PRE CN\", \"ERF CN\", \"BEPU CN\", \"HR-U CN\", \"KEY CN\", \"IPL-U CN\", \"MEG CN\", \"ECA CN\", \"PBR/A US\", \"SC CN\", \"TNH US\", \"THI CN\", \"ABX CN\", \"ACO/X CN\", \"AEM CN\", \"ARX CN\", \"AGU CN\", \"ALA CN\", \"COS CN\", \"ATD/B CN\", \"ATH CN\", \"BBD/B CN\", \"BCE CN\", \"CM CN\", \"BIP-U CN\", \"BIP US\", \"BMO CN\", \"BAM/A CN\", \"BNP CN\", \"BNS CN\", \"BPO CN\", \"BTE CN\", \"VRX CN\", \"CAE CN\", \"CCO CN\", \"CNQ CN\", \"CEF/A CN\", \"FCR CN\", \"CIX CN\", \"CNR CN\", \"SLW CN\", \"CPG CN\", \"CTC/A CN\", \"CU CN\", \"CVE CN\", \"CWT-U CN\", \"D-U CN\", \"DOL CN\", \"NGD CN\", \"ELD CN\", \"EMA CN\", \"EMP/A CN\", \"ENB CN\", \"FM CN\", \"FMX US\", \"FNV CN\", \"FTE US\", \"FTS CN\", \"FTT CN\", \"G CN\", \"GIB/A CN\", \"GIL CN\", \"GWO CN\", \"HSE CN\", \"IAG CN\", \"IBN US\", \"IGM CN\", \"IHG US\", \"IFC CN\", \"IMG CN\", \"IMN CN\", \"IMO CN\", \"INFY US\", \"K CN\", \"KOF US\", \"L CN\", \"LAZ US\", \"MFC CN\", \"MG CN\", \"MRU CN\", \"NA CN\", \"NXY CN\", \"OCX CN\", \"OSK CN\", \"OTC CN\", \"PAA CN\", \"PBR US\", \"BRFS US\", \"PEY CN\", \"PGF CN\", \"PIF-U CN\", \"CUK US\", \"POT CN\", \"POW CN\", \"PWF CN\", \"PWT CN\", \"RBA CN\", \"RBS US\", \"RDS/A US\", \"REI-U CN\", \"RCI/B CN\", \"RIM CN\", \"GOLD US\", \"RY CN\", \"SAP CN\", \"SSL US\", \"SDRL US\", \"SJR/B CN\", \"SLF CN\", \"SNC CN\", \"SU CN\", \"T CN\", \"TA CN\", \"TD CN\", \"TCK/B CN\", \"TLM CN\", \"TRI CN\", \"TOT US\", \"TOU CN\", \"TRP CN\", \"T/A CN\", \"UMC US\", \"UN US\", \"VE US\", \"VET CN\", \"VOD US\", \"WBK US\", \"WN CN\", \"YRI CN\", \"ADS GR\", \"ALV GR\", \"SPR GR\", \"BAS GR\", \"BAYN GR\", \"BMW GR\", \"BMW3 GR\", \"BEI GR\", \"GBF GR\", \"BOSS GR\", \"BNR GR\", \"CLS1 GR\", \"CBK GR\", \"CON GR\", \"DAI GR\", \"DB1 GR\", \"DPW GR\", \"DBK GR\", \"DTE GR\", \"EAD GR\", \"EOAN GR\", \"FB2A GR\", \"FRA GR\", \"FRE GR\", \"FME GR\", \"HNR1 GR\", \"HEI GR\", \"HEN3 GR\", \"HEN GR\", \"HOT GR\", \"IFX GR\", \"KD8 GR\", \"SDF GR\", \"RWE GR\", \"LXS GR\", \"LIN GR\", \"LHA GR\", \"MAN GR\", \"MRK GR\", \"MEO GR\", \"G1A GR\", \"MTX GR\", \"MUV2 GR\", \"NESR GR\", \"NOA3 GR\", \"PAH3 GR\", \"PSM GR\", \"PUM GR\", \"QIA GR\", \"RWE3 GR\", \"SAP GR\", \"SIE GR\", \"SZU GR\", \"TLX GR\", \n",
        "           \"O2D GR\", \"TKA GR\", \"UTDI GR\", \"VOW GR\", \"VOW3 GR\", \"DB US\", \"AGK AU\", \"AWC AU\", \"AMC AU\", \"AMP AU\", \"AIO AU\", \"ANZ AU\", \"APA AU\", \"ASX AU\", \"BEN AU\", \"BHP AU\", \"BLD AU\", \"BXB AU\", \"CTX AU\", \"ALQ AU\", \"FDC AU\", \"CFX AU\", \"CBA AU\", \"CCL AU\", \"COH AU\", \"CPU AU\", \"CWN AU\", \"CSL AU\", \"DXS AU\", \"FBU AU\", \"FLT AU\", \"FMG AU\", \"GPT AU\", \"HVN AU\", \"ILU AU\", \"IPL AU\", \"IAG AU\", \"JHX AU\", \"LEI AU\", \"LLC AU\", \"SYD AU\", \"MQG AU\", \"GMG AU\", \"MTS AU\", \"MGR AU\", \"NAB AU\", \"NCM AU\", \"NWSLV AU\", \"NWS AU\", \"OSH AU\", \"ORI AU\", \"ORG AU\", \"OZL AU\", \"SUN AU\", \"QAN AU\", \"QBE AU\", \"AZJ AU\", \"RHC AU\", \"RMD AU\", \"RIO AU\", \"STO AU\", \"SGM AU\", \"SHL AU\", \"SPN AU\", \"SGP AU\", \"TAH AU\", \"TTS AU\", \"TEL AU\", \"TLS AU\", \"TOL AU\", \"TCL AU\", \"TWE AU\", \"WES AU\", \"WESN AU\", \"WDC AU\", \"WRT AU\", \"WBC AU\", \"WHC AU\", \"WPL AU\", \"WOW AU\", \"WOR AU\", \"BT US\", \"ADN LN\", \"ADM LN\", \"AGK LN\", \"AMEC LN\", \"AAL LN\", \"ANTO LN\", \"ARM LN\", \"ABF LN\", \"AZN LN\", \"AV/ LN\", \"BAB LN\", \"BA/ LN\", \"BBY LN\", \"BARC LN\", \"BNC LN\", \"BG/ LN\", \"BLT LN\", \"REX LN\", \"BP/ LN\", \"BATS LN\", \"BLND LN\", \"BT/A LN\", \"BSY LN\", \"BNZL LN\", \"BRBY LN\", \"CPI LN\", \"CCL LN\", \"CNA LN\", \"COB LN\", \"CPG LN\", \"CRH LN\", \"CRDA LN\", \"DGE LN\", \"DLG LN\", \"EZJ LN\", \"ENRC LN\", \"EVR LN\", \"EXPN LN\", \"FRES LN\", \"GKN LN\", \"GSK LN\", \"GLEN LN\", \"HMSO LN\", \"HL/ LN\", \"HSBA LN\", \"III LN\", \"IMI LN\", \"IMT LN\", \"ISAT LN\", \"ITRK LN\", \"IHG LN\", \"IAG LN\", \"INVP LN\", \"ITV LN\", \"JMAT LN\", \"KAZ LN\", \"KGF LN\", \"LAND LN\", \"LGEN LN\", \"CSCG LN\", \"LLOY LN\", \"LSE LN\", \"MKS LN\", \"MGGT LN\", \"MRO LN\", \"MRW LN\", \"NG/ LN\", \"OML LN\", \"PSON LN\", \"PFC LN\", \"POLY LN\", \"PGIL LN\", \"NXT LN\", \"PRU LN\", \"RRS LN\", \"RB/ LN\", \"REL LN\", \"RSL LN\", \"RIO LN\", \"RR/ LN\", \"RBS LN\", \"RDSA LN\", \"RSA LN\", \"SAB LN\", \"SGE LN\", \"SBRY LN\", \"SDR LN\", \"SSE LN\", \"GFS LN\", \"SRP LN\", \"SVT LN\", \"RDSB LN\", \"SHP LN\", \"SGRO LN\", \"SMIN LN\", \"SN/ LN\", \"SL/ LN\", \"STAN LN\", \"FQM LN\", \"TATE LN\", \"TSCO LN\", \"TT/ LN\", \"TLW LN\", \"ULVR LN\", \"UU/ LN\", \"VED LN\", \"VOD LN\", \"WEIR LN\", \"WTB LN\", \"WOS LN\", \"WPP LN\", \"XTA LN\", \"ARMH US\", \"BP US\", \"BTI US\", \"CHJHF US\", \"DEO US\", \"RUK US\", \"1299 HK\", \"522 HK\", \"23 HK\", \"2388 HK\", \"293 HK\", \"1 HK\", \"1038 HK\", \"2 HK\", \"DFI SP\", \"101 HK\", \"10 HK\", \"11 HK\", \"12 HK\", \"6823 HK\", \"388 HK\", \"HKL SP\", \"6 HK\", \"3 HK\", \"54 HK\", \"5 HK\", \"13 HK\", \"14 HK\", \"JM SP\", \"JS SP\", \"683 HK\", \"27 HK\", \"494 HK\", \"823 HK\", \"66 HK\", \"2282 HK\", \"17 HK\", \"659 HK\", \"8 HK\", \"1928 HK\", \"69 HK\", \"83 HK\", \"880 HK\", \"2888 HK\", \"142 HK\", \"16 HK\", \"19 HK\", \"87 HK\", \"1972  HK\", \"4 HK\", \"20 HK\", \"1128 HK\", \"551 HK\", \"CEO US\", \"CHL US\", \"MPEL US\", \"TI US\", \"G IM\", \"ATL IM\", \"ISP IM\", \"ISPR IM\", \"BMPS IM\", \"UBI IM\", \"BNP IM\", \"CPR IM\", \"ENEL IM\", \"EGPW IM\", \"ENI IM\", \"EXO IM\", \"FI IM\", \"F IM\", \"FNC IM\", \"LTO IM\", \"LUX IM\", \"MB IM\", \"MED IM\", \"TIT IM\", \"PLT IM\", \"PC IM\", \"PRY IM\", \"SPM IM\", \"SFER IM\", \"SRG IM\", \"STM IM\", \"TITR IM\", \"TEN IM\", \"TRN IM\", \"TOD IM\", \"UCG IM\", \"CRIH GR\", \"TI/A US\", \"ALFA SS\", \"ASSAB SS\", \"ATCOB SS\", \"ATCOA SS\", \"ALIV SS\", \"BOL SS\", \"ELUXB SS\", \"EKTAB SS\", \"ERICB SS\", \"SWEDA SS\", \"GETIB SS\", \"HMB SS\", \"HEXAB SS\", \"HUSQB SS\", \"INDUC SS\", \"INVEA SS\", \"INVEB SS\", \"KINVB SS\", \"LUPE SS\", \"MIC SS\", \"NDA SS\", \"SAND SS\", \"SCVB SS\", \"SECUB SS\", \"SEBA SS\", \"SKAB SS\", \"SKFB SS\", \"SCAB SS\", \"SHBA SS\", \"SWMA SS\", \"TEL2B SS\", \"TLSN SS\", \"VOLVA SS\", \"VOLVB SS\", \"ABE SM\", \"BKIA SM\", \"BBVA SM\", \"POP SM\", \"DIA SM\", \"GRF SM\", \"TEF SM\", \"BBVXF US\", \"MAERSKB DC\", \"MAERSKA DC\", \"CARLB DC\", \"COLOB DC\", \"DANSKE DC\", \"DSV DC\", \"NDA DC\", \"NOVOB DC\", \"NZYMB DC\", \"TDC DC\", \"TRYG DC\", \"WDH DC\", \"NVO US\", \"AREIT SP\", \"CCT SP\", \"CMA SP\", \"CAPL SP\", \"CT SP\", \"CIT SP\", \"CD SP\", \"JCNC SP\", \"DBS SP\", \"WIL SP\", \"FNN SP\", \"GENS SP\", \"GLP SP\", \"GGR SP\", \"HPHT SP\", \"KEP SP\", \"KPLD SP\", \"NOBL SP\", \"OLAM SP\", \"OCBC SP\", \"SCI SP\", \"SMM SP\", \"STE SP\", \"SPH SP\", \"SGX SP\", \"ST SP\", \"SIA SP\", \"STH SP\", \"UOB SP\", \"UOL SP\", \"YZJ SP\", \"CRH ID\", \"KYG ID\", \"PRGO IT\", \"RYA ID\", \"ELI1V FH\", \"FUM1V FH\", \"KNEBV FH\", \"UPM1V FH\", \"NES1V FH\", \"NOK1V FH\", \"NRE1V FH\", \"NDA1V FH\", \"POH1S FH\", \"ORNBV FH\", \"SAMAS FH\", \"STERV FH\", \"TLS1V FH\", \"MEO1V FH\", \"WRT1V FH\", \"DNB NO\", \"GJF NO\", \"NHY NO\", \"ORK NO\", \"SDRL NO\", \"STL NO\", \"SUBC NO\", \"TEL NO\", \"YAR NO\", \"ANDR AV\", \"EBS AV\", \"IIA AV\", \"VER AV\", \"OMV AV\", \"RBI AV\", \"TKA AV\", \"VOE AV\", \"VIG AV\", \"AIA NZ\", \"ANZ NZ\", \"FBU NZ\", \"TEL NZ\", \"WBC NZ\", \"BES PL\", \"EDPR PL\", \"EDP PL\", \"GALP PL\", \"JMT PL\", \"PTC PL\", \"AZRG IT\", \"BEZQ IT\", \"POLI IT\", \"LUMI IT\", \"DLEKG IT\", \"DEDRL IT\", \"GLOB IT\", \"ICL IT\", \"ILCO IT\", \"ISRAL IT\", \"MLNX IT\", \"NICE IT\", \"TEVA IT\", \"MZTF IT\", \"CHKP US\", \"TARO US\", \"TEVA US\", \"CGG FP\", \"BB CN\", \"INTU LN\", \"BEP-U CN\", \"GZT IT\", \"KER FP\", \"BEP US\", \"GTK IM\", \"ORA FP\", \"DEC FP\", \"UL NA\", \"FR FP\", \"RTL BB\", \"RHHBY US\", \"NVSEF US\", \"ZURVY US\", \"CAJ US\", \"DCM US\", \"NINOY US\", \"8439 JP\", \"5714 JP\", \"3765 JP\", \"9435 JP\", \"8377 JP\", \"2371 JP\", \"7211 JP\", \"3283 JP\", \"4612 JP\", \"8697 JP\", \"6724 JP\", \"9989 JP\", \"4974 JP\", \"8804 JP\", \"4205 JP\", \"DKILY US\", \"KYO US\", \"CMTDF US\", \"TM US\", \"GTO NA\", \"UNIA NA\", \"YNDX US\", \"SWGAY US\", \"VLKPY US\", \"ASX US\", \"ORAN US\", \"TRQ CN\", \"LFC US\", \"EVK GR\", \"FPE3 GR\", \"GGQ1 GR\", \"NOT GR\", \"SKYD GR\", \"SNW GR\", \"SY1 GR\", \"DDAIF US\", \"SI US\", \"FOXLV AU\", \"FOX AU\", \"REA AU\", \"SEK AU\", \"SGT AU\", \"CCH LN\", \"PSN LN\", \"TPK LN\", \"WMH LN\", \"HBC US\", \"JSAIY US\", \"RSANY US\", \"CHU US\", \"AGL IM\", \"MS IM\", \"INDUA SS\", \"MELK SS\", \"SAN SM\", \"FER SM\", \"MAP SM\", \"IBE SM\", \"ITX SM\", \"REP SM\", \"RYA LN\", \"CHR DC\", \"SIE SP\", \"THBEV SP\", \"PT US\", \"OSEM IT\", \"YZJSGD SP\", \"SUN SW\", \"IPL CN\", \"CNU CN\", \"RSNAY US\", \"HSBC US\", \"SCGLY US\", \"ALU FP\", \"AIR FP\", \"NSRGY US\", \"BAS SW\", \"CLN VX\", \"GALN SW\", \"8686 JP\", \"3668 JP\", \"4631 JP\", \"6361 JP\", \"3291 JP\", \"6479 JP\", \"6723 JP\", \"4684 JP\", \"7453 JP\", \"9719 JP\", \"2587 JP\", \"3289 JP\", \"4042 JP\", \"SFTBF US\", \"SSDOF US\", \"OCI NA\", \"BNPQY US\", \"AGESY US\", \"CMLP US\", \"CICHY US\", \"CSU CN\", \"DDAIY US\", \"FFH CN\", \"MX CN\", \"SFTBY US\", \"CCT CN\", \"AMZ GR\", \"DWNI GR\", \"AIR GR\", \"OSR GR\", \"RRTL GR\", \"VODE GR\", \"WCH GR\", \"BDRFY US\", \"BOQ AU\", \"PTM AU\", \"TPM AU\", \"MNDI LN\", \"AHT LN\", \"ASC LN\", \"MERL LN\", \"RMG LN\", \"SPD LN\", \"STJ LN\", \"TW/ LN\", \"ASBFF US\", \"1680 HK\", \"200 HK\", \"669 HK\", \"CNHI IM\", \"MONC IM\", \"DNBNOR SS\", \"STER SS\", \"TRELB SS\", \"ACS SM\", \"SAB SM\", \"CABK SM\", \"ENG SM\", \"IAG SM\", \"CRH US\", \"PNDORA DC\", \"VWS DC\", \"SCH NO\", \"UQA AV\", \"CEN NZ\", \"RYM NZ\", \"XRO NZ\", \"BCP PL\", \"SON PL\", \"ESLT IT\", \"VODI GR\", \"BPO US\", \"PPL CN\", \"1972 HK\", \"FLG LN\", \"NUM FP\", \"ACRFY US\", \"PDRDY US\", \"KCRPY US\", \"3269 JP\", \"8515 JP\", \"2580 JP\", \"6465 JP\", \"6740 JP\", \"9048 JP\", \"9024 JP\", \"SNPHY US\", \"STBFY US\", \"ATC NA\", \"INN GR\", \"INGVF US\", \"AER US\", \"BAESY US\", \"VLKAY US\", \"POU CN\", \"PSO US\", \"SMGZY US\", \"ANN GR\", \"FIE GR\", \"CGF AU\", \"HGG AU\", \"SCG AU\", \"WFD AU\", \"CPYYY US\", \"RYCEY US\", \"VZC LN\", \"ABDNY US\", \"2638 HK\", \"302 HK\", \"KING US\", \"US IM\", \"LUX US\", \"MEDAA SS\", \"GAS SM\", \"ISS DC\", \"EXPGY US\", \"AST AU\", \"SPK AU\", \"SPK NZ\", \"ARYN VX\", \"GALN VX\", \"SPSN SW\", \"FCA IM\", \"OUBS US\", \"AGL AU\", \"NVN AU\", \"WESDD AU\", \"AMFW LN\", \"SKY LN\", \"UBSN SW\", \"VEOEY US\", \"AM FP\", \"ING FP\", \"CS US\", \n",
        "           \"AI SW\", \"UBSG VX\", \"6770 JP\", \"7167 JP\", \"6146 JP\", \"9706 JP\", \"2121 JP\", \"4021 JP\", \"8954 JP\", \"2809 JP\", \"6098 JP\", \"3391 JP\", \"TOYOF US\", \"NN NA\", \"AEG US\", \"QGEN US\", \"STMEF US\", \"VSN CN\", \"HBC CN\", \"PSK CN\", \"BPY US\", \"BPY-U CN\", \"HNDAF US\", \"LNR CN\", \"QSR CN\", \"SAPGF US\", \"LUN CN\", \"SNYNF US\", \"TCTZF US\", \"TTFNF US\", \"WFT CN\", \"WDI GR\", \"RKET GR\", \"VWS GR\", \"ZAL GR\", \"ALL AU\", \"HSO AU\", \"MPL AU\", \"SSEZY US\", \"BDEV LN\", \"BIL GR\", \"DC/ LN\", \"HIK LN\", \"PNN LN\", \"RIO1 GR\", \"TUI LN\", \"288 HK\", \"ICA SS\", \"AMS SM\", \"BKT SM\", \"REE SM\", \"ZOT SM\", \"DBSDY US\", \"IHH SP\", \"SUN SP\", \"AKA NO\", \"MHG NO\", \"POST AV\", \"MRP NZ\", \"ICL US\", \"MBLY US\", \"CIM AU\", \"TLM US\", \"PROX BB\", \"NESTE FH\", \"SCHA NO\", \"LGT FP\", \"DUFN SW\", \"GILD SW\", \"HELN SW\", \"LHN VX\", \"JNJ SW\", \"TOTF SW\", \"TWTR SW\", \"TRYIY US\", \"2206 JP\", \"1808 JP\", \"8273 JP\", \"4521 JP\", \"4922 JP\", \"6472 JP\", \"7956 JP\", \"4927 JP\", \"2331 JP\", \"3092 JP\", \"7649 JP\", \"TKPYY US\", \"TOELY US\", \"GVNV NA\", \"DH CN\", \"FUJHY US\", \"PAC US\", \"ADDDF US\", \"AYA CN\", \"CCL/B CN\", \"MGMB US\", \"EFN CN\", \"GRPFF US\", \"PJC/A CN\", \"VII CN\", \"ARRB GR\", \"AXA GR\", \"MSF GR\", \"S32 AU\", \"BKG LN\", \"CAPC LN\", \"DCC LN\", \"DLN LN\", \"PFG LN\", \"SMDS LN\", \"S32 LN\", \"TALK LN\", \"TUI1 GR\", \"AZN US\", \"BSYBF US\", \"933 HK\", \"1113 HK\", \"530 HK\", \"1031 HK\", \"AAGIY US\", \"AENA SM\", \"ELE SM\", \"GRF/P SM\", \"RYAAY US\", \"SCHB NO\", \"CVX SW\", \"ENGI FP\", \"NOKIASEK SS\", \"NOKIA FH\", \"VNA GR\", \"QANDA AU\", \"RY4C ID\", \"VCX AU\", \"ALUT FP\", \"BMED IM\", \"AMUN FP\", \"FGR FP\", \"ERF FP\", \"LHN FP\", \"IPN FP\", \"DIM FP\", \"ACCYY US\", \"BIIB SW\", \"BAC SW\", \"FB SW\", \"GS1 SW\", \"MSFT SW\", \"NFLX SW\", \"ORCL SW\", \"VZ SW\", \"YHOO SW\", \"ATCB NA\", \"SWDBY US\", \"TEP US\", \"SRU-U CN\", \"DPM US\", \"WSP CN\", \"PUBGY US\", \"SJ CN\", \"3349 JP\", \"6178 JP\", \"7181 JP\", \"7182 JP\", \"4967 JP\", \"7180 JP\", \"3064 JP\", \"9044 JP\", \"3462 JP\", \"2181 JP\", \"MZDAY US\", \"1COV GR\", \"SNH GR\", \"DUE AU\", \"DMP AU\", \"AUTO LN\", \"BWY LN\", \"BET LN\", \"GS7 GR\", \"INF LN\", \"MCRO LN\", \"RMV LN\", \"WPG LN\", \"A2A IM\", \"PMI IM\", \"DLG IM\", \"FBK IM\", \"PST IM\", \"REC IM\", \"FINGB SS\", \"LATOB SS\", \"SAN US\", \"BBVA US\", \"GEN DC\", \"LUN DC\", \"SATS SP\", \"FCG NZ\", \"MEL NZ\", \"NOS PL\", \"FRUT IT\", \"MYL IT\", \"COSWF US\", \"IMB LN\", \"DUFN VX\", \"TELIA SS\", \"1331440D US\", \"NJDCY US\", \"LDO IM\", \"ELISA FH\", \"TELIA1 FH\", \"BIM FP\", \"SFR FP\", \"SK FP\", \"VIVHY US\", \"AIG SW\", \"AMGN SW\", \"GOOGL SW\", \"MA1 SW\", \"NKE SW\", \"UG SW\", \"ABLZF US\", \"JBAXY US\", \"SCMWY US\", \"ABN NA\", \"AD NA\", \"CCE NA\", \"INN1 GR\", \"RACE US\", \"MFG US\", \"CAR-U CN\", \"CGEMY US\", \"DGC CN\", \"HESAY US\", \"IDCBY US\", \"PNDZY US\", \"TELNY US\", \"THO CN\", \"DNZOY US\", \"3279 JP\", \"7747 JP\", \"7186 JP\", \"7779 JP\", \"4751 JP\", \"8976 JP\", \"3281 JP\", \"3141 JP\", \"2593 JP\", \"2296 JP\", \"4912 JP\", \"4516 JP\", \"2768 JP\", \"4587 JP\", \"4555 JP\", \"2782 JP\", \"4565 JP\", \"9684 JP\", \"JSGRY US\", \"OTSKY US\", \"AAPL* MM\", \"KU2 GR\", \"KGX GR\", \"LEG GR\", \"RAA GR\", \"SHA GR\", \"BASFY US\", \"SIEGY US\", \"FPH AU\", \"INM AU\", \"VOC AU\", \"RDSA NA\", \"RACE IM\", \"HER IM\", \"IT IM\", \"PPB LN\", \"PPB ID\", \"TSCDY US\", \"MDC LN\", \"HLMA LN\", \"OPK IT\", \"RTO LN\", \"IMBBY US\", \"DENERG DC\", \"NOKBF US\", \"SALM NO\", \"MCY NZ\", \"SAMPO FH\", \"METSO FH\", \"ONEX CN\", \"TECK/B CN\", \"EO FP\", \"RCF FP\", \"DANOY US\", \"MGDDY US\", \"SCGLF US\", \"ABI BB\", \"STMN SW\", \"ALIOY US\", \"HEINY US\", \"AIQUY US\", \"DCP US\", \"WCP CN\", \"SHECY US\", \"8984 JP\", \"7248 JP\", \"9142 JP\", \"3938 JP\", \"SEKEY US\", \"DB11 GR\", \"IGY GR\", \"BAMXF US\", \"BMWYY US\", \"APC GR\", \"NOVC GR\", \"1658 HK\", \"CRIN GR\", \"LUNDB SS\", \"SAABB SS\", \"TLSNY US\", \"GAM SM\", \"MRL SM\", \"CTEC LN\", \"NXG LN\", \"JE/ LN\", \"KGP LN\", \"FORTUM FH\", \"AKER NO\", \"AKERBP NO\", \"LSG NO\", \"FPH NZ\", \"OTEX CN\", \"UPM FH\", \"VIFN VX\", \"MLCO US\", \"ATLN SW\", \"LISN VX\", \"PGHN VX\", \"SYNN SW\", \"WPM CN\", \"MTS SM\", \"ALD FP\", \"NOKIA FP\", \"ORP FP\", \"UBI FP\", \"FHZN SW\", \"ATLKY US\", \"ENF CN\", \"SHOP CN\", \"SNAP US\", \"AC CN\", \"AQN CN\", \"OMRNY US\", \"6383 JP\", \"2871 JP\", \"NSANY US\", \"CTTAY US\", \"ARRD GR\", \"CEC GR\", \"NNND GR\", \"UN01 GR\", \"BSL AU\", \"JHG AU\", \"BAMI IM\", \"ESSITYB SS\", \"SGRE SM\", \"ALBK ID\", \"NMC LN\", \"SPX LN\", \"GR4SEC DC\", \"CABGY US\", \"STB NO\", \"STOHF US\", \"AMX US\", \"SLA LN\", \"FERG LN\", \"MBBYF US\", \"ADEN SW\", \"BALN SW\", \"ABBN SW\", \"CSGN SW\", \"VIFN SW\", \"GEBN SW\", \"GIVN SW\", \"LHN SW\", \"BAER SW\", \"KNIN SW\", \"LONN SW\", \"NESN SW\", \"NOVN SW\", \"SOON SW\", \"CFR SW\", \"ROG SW\", \"SCHP SW\", \"SGSN SW\", \"SIK SW\", \"UHR SW\", \"SCMN SW\", \"SLHN SW\", \"SREN SW\", \"UBSG SW\", \"ZURN SW\", \"ORSTED DC\", \"AIBG ID\", \"TEP FP\", \"HKHHY US\", \"NPPXF US\", \"AMD TH\", \"AHLA QT\", \"ABEC GZ\", \"RHO5 GZ\", \"TL0 GZ\", \"TOTB EB\", \"COD LN\", \"RDSG IX\", \"R6C3 TH\", \"TTAL EB\", \"EQNR NO\", \"COV FP\", \"URW NA\", \"SIKA SW\", \"BHC CN\", \"NTGY SM\", \"OMU LN\", \"EL FP\", \"LNA GR\", \"IAGDA AU\", \"NDA FH\", \"CCEP NA\", \"CCEP US\", \"BHP LN\", \"TAK US\", \"TIGO SS\", \"NDAH PO\", \"MOWI NO\", \"DEMANT DC\", \"FLTR ID\", \"TYRES FH\"]\n",
        "##Preparing your DB\n",
        "your_Security_Master_DB = pd.concat([ pd.DataFrame([{'figi': None, 'bloomberg_ticker':t, 'sentieo_id':None, 'sentieo_ticker':None  } for t in BLOOMBERG_TICKER_LIST ]), pd.DataFrame([ {'figi': t, 'bloomberg_ticker':None, 'sentieo_id':None, 'sentieo_ticker':None  } for t in  COMPOSITE_FIGI_CODE_LIST ])])\n",
        "\n",
        "your_Security_Master_DB.head()"
      ],
      "execution_count": 42,
      "outputs": [
        {
          "output_type": "execute_result",
          "data": {
            "text/html": [
              "<div>\n",
              "<style scoped>\n",
              "    .dataframe tbody tr th:only-of-type {\n",
              "        vertical-align: middle;\n",
              "    }\n",
              "\n",
              "    .dataframe tbody tr th {\n",
              "        vertical-align: top;\n",
              "    }\n",
              "\n",
              "    .dataframe thead th {\n",
              "        text-align: right;\n",
              "    }\n",
              "</style>\n",
              "<table border=\"1\" class=\"dataframe\">\n",
              "  <thead>\n",
              "    <tr style=\"text-align: right;\">\n",
              "      <th></th>\n",
              "      <th>figi</th>\n",
              "      <th>bloomberg_ticker</th>\n",
              "      <th>sentieo_id</th>\n",
              "      <th>sentieo_ticker</th>\n",
              "    </tr>\n",
              "  </thead>\n",
              "  <tbody>\n",
              "    <tr>\n",
              "      <th>0</th>\n",
              "      <td>None</td>\n",
              "      <td>AC FP</td>\n",
              "      <td>None</td>\n",
              "      <td>None</td>\n",
              "    </tr>\n",
              "    <tr>\n",
              "      <th>1</th>\n",
              "      <td>None</td>\n",
              "      <td>ADP FP</td>\n",
              "      <td>None</td>\n",
              "      <td>None</td>\n",
              "    </tr>\n",
              "    <tr>\n",
              "      <th>2</th>\n",
              "      <td>None</td>\n",
              "      <td>AI FP</td>\n",
              "      <td>None</td>\n",
              "      <td>None</td>\n",
              "    </tr>\n",
              "    <tr>\n",
              "      <th>3</th>\n",
              "      <td>None</td>\n",
              "      <td>ALO FP</td>\n",
              "      <td>None</td>\n",
              "      <td>None</td>\n",
              "    </tr>\n",
              "    <tr>\n",
              "      <th>4</th>\n",
              "      <td>None</td>\n",
              "      <td>AREVA FP</td>\n",
              "      <td>None</td>\n",
              "      <td>None</td>\n",
              "    </tr>\n",
              "  </tbody>\n",
              "</table>\n",
              "</div>"
            ],
            "text/plain": [
              "   figi bloomberg_ticker sentieo_id sentieo_ticker\n",
              "0  None            AC FP       None           None\n",
              "1  None           ADP FP       None           None\n",
              "2  None            AI FP       None           None\n",
              "3  None           ALO FP       None           None\n",
              "4  None         AREVA FP       None           None"
            ]
          },
          "metadata": {
            "tags": []
          },
          "execution_count": 42
        }
      ]
    },
    {
      "cell_type": "markdown",
      "metadata": {
        "id": "XWfwfZm34Bl7",
        "colab_type": "text"
      },
      "source": [
        "Which apis to use for mapping?\n",
        "\n",
        "FIGI - link to FIGI. Just put in the figi code"
      ]
    },
    {
      "cell_type": "code",
      "metadata": {
        "id": "DRg6jFdC4LxE",
        "colab_type": "code",
        "colab": {}
      },
      "source": [
        "from typing import NamedTuple, List, Mapping\n",
        "from datetime import date\n",
        "import requests, json\n",
        "from enum import Enum\n",
        "\n",
        "APIKEY = 'nnn'\n",
        "BASE_URL = 'https://api.sentieo.com/v1'\n",
        "EMAIL = 'your@email.com'\n",
        "default_headers = {\n",
        "                  'x-api-key': APIKEY\n",
        "              }\n",
        "\n",
        "from typing import List, Mapping\n",
        "\n",
        "class SentieoAPI:\n",
        "  def __init__(self, debug=True):\n",
        "    self.debug = debug\n",
        "\n",
        "  def throttled_request(self, *args, **kwargs):\n",
        "    response = requests.request(*args, **kwargs)\n",
        "    if response.status_code == 429:\n",
        "      time.sleep(0.2)\n",
        "      response = requests.request(*args, **kwargs)\n",
        "    return response\n",
        "\n",
        "  def _make_post_api_call(self, url, payload=None, headers=None):\n",
        "    payload = {} if payload is None else payload\n",
        "    headers = { 'Content-Type': 'application/json' } if headers == None else headers\n",
        "    headers.update(default_headers)\n",
        "    response = self.throttled_request(\"POST\", BASE_URL + url, headers=headers, data = json.dumps(payload))\n",
        "    if self.debug:\n",
        "      print(url, response.status_code)\n",
        "    return response.status_code, response.json()\n",
        "  \n",
        "  def _make_get_api_call(self, url, params=None, headers=None):\n",
        "    params = {} if params is None else params\n",
        "    headers = { } if headers == None else headers\n",
        "    headers.update(default_headers)\n",
        "    response = self.throttled_request(\"GET\", BASE_URL + url, headers=headers, params = params)\n",
        "    if self.debug:\n",
        "      print(url, response.status_code)\n",
        "    return response.status_code, response.text\n",
        "\n",
        "  def map_symbol_to_sentieo_ticker(self, figicodes:List[str], bloomberg_tickers:List[str])-> Mapping[str,Mapping[str,str]]:\n",
        "    status, result = self._make_get_api_call('/sm/sentieo/securities/map', { 'figi': \",\".join(figicodes), 'bloomberg_ticker': \",\".join(bloomberg_tickers) })\n",
        "    return json.loads(result)['response']\n",
        "  \n",
        "  def fetch_changed_symbols():\n",
        "    raise NotImplementedError(\"In Development\")\n",
        "\n",
        "sAPI = SentieoAPI()"
      ],
      "execution_count": 0,
      "outputs": []
    },
    {
      "cell_type": "markdown",
      "metadata": {
        "id": "gy6nnQ1q4eN-",
        "colab_type": "text"
      },
      "source": [
        "### Syncing a large list of Bloomberg Or FIGI Codes\n",
        "\n",
        "\n",
        "How to handle updates\n",
        "\n",
        "Have an api which tells which tickers have been updated.\n",
        "\n",
        "- FIGI or Bloomberg Ticker updates\n",
        "- Other codes updates not showing in sentieo - ?? \n"
      ]
    },
    {
      "cell_type": "code",
      "metadata": {
        "id": "2W-QQ1gz4mue",
        "colab_type": "code",
        "colab": {}
      },
      "source": [
        "def update_your_security_master(column, batch_res):\n",
        "  for t in batch_res:\n",
        "    if batch_res[t] is not None:\n",
        "      your_Security_Master_DB.loc[your_Security_Master_DB[column] == t, ['sentieo_id','sentieo_ticker']] = [ batch_res[t]['sentieo_id'], batch_res[t]['ticker'] ]\n",
        "    else:\n",
        "      print(t,\"None\")\n",
        "\n",
        "def batches_of_100_bloomberg_tickers():\n",
        "  bloomberg_tickers = [ t for t in your_Security_Master_DB['bloomberg_ticker'].tolist() if t is not None ]\n",
        "  return [ bloomberg_tickers[i:i+100] for i in range(0, len(bloomberg_tickers), 100)]\n",
        "\n",
        "def batches_of_100_figi_codes():\n",
        "  figi_tickers =  [ t for t in your_Security_Master_DB['figi'].tolist() if t is not None ]\n",
        "  return [ figi_tickers[i:i+100] for i in range(0, len(figi_tickers), 100)]\n",
        "\n",
        "\n",
        "for batch in batches_of_100_figi_codes():\n",
        "  batch_res = sAPI.map_symbol_to_sentieo_ticker(batch,[])\n",
        "  update_your_security_master('figi', batch_res)\n",
        "\n",
        "\n",
        "for batch in batches_of_100_bloomberg_tickers():\n",
        "  batch_res = sAPI.map_symbol_to_sentieo_ticker([],batch)\n",
        "  update_your_security_master('bloomberg_ticker', batch_res)\n",
        "\n",
        "print(\"Sync Complete\")\n",
        "\n",
        "your_Security_Master_DB"
      ],
      "execution_count": 0,
      "outputs": []
    },
    {
      "cell_type": "markdown",
      "metadata": {
        "id": "1XfOwI_cS-3X",
        "colab_type": "text"
      },
      "source": [
        "### More on FIGI and Bloomberg Tickers - the recommended option\n",
        "\n",
        "Three layers of FIGI codes are supported: \n",
        "* Quote level FIGI: These identifiers are for market specific quotes,\n",
        "* Composite FIGIs: These identifiers are for quotes that aggregate data from a set of venues, usually at the regional level.\n",
        "* Share Class FIGI: These are not quotes per se, but unique references that are shared by all the quotes of one same security.\n",
        "\n",
        "-----------------\n",
        "Sentieo's DB is built with regional level quotes only. For eg, we tag our documents with the a Sentieo ticker for the regional level quote for AAPL in the US (the equivalent of AAPL US Equity), but we do not for the market-specific quotes for AAPL in the US (not for AAPL specifically in Nasdaq (AAPL UW), Phili stock exchange, etc..); By default, Bloomberg terminals and most other platforms do not carry all market-specific quotes, and they steer users towards the regional composites; so your users will most probably be more familiar with AAPL US than AAPL UW anyway.  Just in case, we have nevertheless enabled our mapping API to all market-specific quotes; If you submit a Market-specific FIGI or Bloomberg ticker, the API will return the Sentieo Ticker for the corresponding primary quote in that region (i.e. entering the FIGI code for AAPL UW will return the Sentieo ticker for AAPL US);\n",
        "\n",
        "Likewise, Share Class FIGIs will also return the Sentieo primary listing of the security;\n",
        "\n",
        "|Identifier |\tIdentifier Type\t| Listing Type\t|Instrument / Quote\t| API Response |\n",
        "-----------|----------------|--------|--------------|----------|\n",
        "|BBG006474W47 |\tFIGI / composite FIGI\t| Regional: Brazilian  Composite |\tFacebook: Brazilian DR | `\"BBG006474W47\": { \"sentieo_id\": 60450,  \"ticker\":\"fbok34:bz\" }` |\n",
        "| BBG000LZMBW4\t| FIGI | \tMarket Specific: CBoE BATS Europe Chi-X Market\t| Vodafone: Common Share| `\t\"BBG000LZMBW4\": { \"sentieo_id\": 24256,\"ticker\": \"vod:ln\"}` |\n",
        "|BBG000C6K5W3\t| FIGI / composite FIGI\t| Regional: UK Composite|\tVodafone: Common Share |\t`\"response\": {\"BBG000C6K5W3\": { \"sentieo_id\": 24256,\"ticker\": \"vod:ln\"}` |\n",
        "| BBG001S5QXT3\t| FIGI |\tShare Class FIGI | (Global)\tEricsson: ADR\t| `\"BBG001S5QXT3\": { \"sentieo_id\": 28343, \"ticker\": \"eric\"}` |\n",
        "| BG001S688B5\t| FIGI\t| Share Class FIGI | (Global)\tEricsson: Common Share\t| \"BBG001S688B5\": {\"sentieo_id\": 28343,\"ticker\": \"eric-b:ss\"} |\n",
        "|VOD LN\t| BBG Ticker| \tRegional: UK Composite| \tVodafone: Common Share |\t`\"VOD LN\": {\"sentieo_id\": 24256, \"ticker\": \"vod:ln\"}` |\n",
        "\n",
        "For the purpose of Sentieo DocSearch API, all Sentieo Tickers are grouped at the entity level, one step above the security, at the issuer level; Therefore, as long as you identify one quote for a given company, the results will be the same (ERIC the ADR and ERICB SS the Common Share will both return the same set of documents)."
      ]
    },
    {
      "cell_type": "markdown",
      "metadata": {
        "id": "_BHNIJBK_h80",
        "colab_type": "text"
      },
      "source": [
        "Using the changes API (Coming Soon), you will be able to make an API Request for "
      ]
    },
    {
      "cell_type": "code",
      "metadata": {
        "id": "YhEVe3s46lb_",
        "colab_type": "code",
        "colab": {
          "base_uri": "https://localhost:8080/",
          "height": 81
        },
        "outputId": "4f76132a-d95c-4799-95b5-4122cb3eb68a"
      },
      "source": [
        "changed_tickers = fetch_changed_symbols()\n",
        "batches = [ changed_tickers[i:i+100] for i in range(0, len(changed_tickers), 100)]\n",
        "for batch in batches:\n",
        "  raise NotImplementedError('Coming Soon...')"
      ],
      "execution_count": 36,
      "outputs": [
        {
          "output_type": "execute_result",
          "data": {
            "text/html": [
              "<div>\n",
              "<style scoped>\n",
              "    .dataframe tbody tr th:only-of-type {\n",
              "        vertical-align: middle;\n",
              "    }\n",
              "\n",
              "    .dataframe tbody tr th {\n",
              "        vertical-align: top;\n",
              "    }\n",
              "\n",
              "    .dataframe thead th {\n",
              "        text-align: right;\n",
              "    }\n",
              "</style>\n",
              "<table border=\"1\" class=\"dataframe\">\n",
              "  <thead>\n",
              "    <tr style=\"text-align: right;\">\n",
              "      <th></th>\n",
              "      <th>sentieo_id</th>\n",
              "      <th>sentieo_ticker</th>\n",
              "    </tr>\n",
              "  </thead>\n",
              "  <tbody>\n",
              "    <tr>\n",
              "      <th>502</th>\n",
              "      <td>s3</td>\n",
              "      <td>st</td>\n",
              "    </tr>\n",
              "  </tbody>\n",
              "</table>\n",
              "</div>"
            ],
            "text/plain": [
              "    sentieo_id sentieo_ticker\n",
              "502         s3             st"
            ]
          },
          "metadata": {
            "tags": []
          },
          "execution_count": 36
        }
      ]
    },
    {
      "cell_type": "markdown",
      "metadata": {
        "id": "RaZwYtlWUFCr",
        "colab_type": "text"
      },
      "source": [
        ""
      ]
    }
  ]
}